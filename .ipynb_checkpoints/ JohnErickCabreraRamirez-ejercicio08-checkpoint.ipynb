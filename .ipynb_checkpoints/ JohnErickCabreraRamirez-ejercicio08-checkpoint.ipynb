{
 "cells": [
  {
   "cell_type": "code",
   "execution_count": 1,
   "metadata": {},
   "outputs": [],
   "source": [
    "import numpy as np\n",
    "import matplotlib.pyplot as plt"
   ]
  },
  {
   "cell_type": "code",
   "execution_count": 2,
   "metadata": {},
   "outputs": [],
   "source": [
    "def model_A(x,params):\n",
    "    y=params[0]+params[1]*x+params[2]*x**2\n",
    "    return y\n",
    "def model_B(x,params):\n",
    "    y=params[0]*np.exp(-0.5*(x-params[1])**2/params[2]**2)\n",
    "    return y\n",
    "def model_C(x,params):\n",
    "    y=params[0]*np.exp(-0.5*(x-params[1])**2/params[2]**2)\n",
    "    y+=params[0]*np.exp(-0.5*(x-params[3])**2/params[4]**2)\n",
    "    return y"
   ]
  },
  {
   "cell_type": "code",
   "execution_count": 3,
   "metadata": {},
   "outputs": [],
   "source": [
    "def loglike_A(x_obs, y_obs, sigma_y_obs, betas):\n",
    "    n_obs = len(y_obs)\n",
    "    l = 0.0\n",
    "    for i in range(n_obs):\n",
    "        l += -0.5*(y_obs[i]-model_A(x_obs[i,:], betas))**2/sigma_y_obs[i]**2\n",
    "    return l\n",
    "def loglike_B(x_obs, y_obs, sigma_y_obs, betas):\n",
    "    n_obs = len(y_obs)\n",
    "    l = 0.0\n",
    "    for i in range(n_obs):\n",
    "        l += -0.5*(y_obs[i]-model_B(x_obs[i,:], betas))**2/sigma_y_obs[i]**2\n",
    "    return l\n",
    "def loglike_C(x_obs, y_obs, sigma_y_obs, betas):\n",
    "    n_obs = len(y_obs)\n",
    "    l = 0.0\n",
    "    for i in range(n_obs):\n",
    "        l += -0.5*(y_obs[i]-model_B(x_obs[i,:], betas))**2/sigma_y_obs[i]**2\n",
    "    return l"
   ]
  },
  {
   "cell_type": "code",
   "execution_count": 52,
   "metadata": {},
   "outputs": [],
   "source": [
    "def run_mcmc_A(data_file=\"data_to_fit.txt\", n_dim=2, n_iterations=20000):\n",
    "    data = np.loadtxt(data_file)\n",
    "    x_obs = data[:,:n_dim-1]\n",
    "    y_obs = data[:, n_dim-1]\n",
    "    sigma_y_obs =  data[:, n_dim]\n",
    "    betas = np.zeros([n_iterations, n_dim+1])\n",
    "    for i in range(1, n_iterations):\n",
    "        current_betas = betas[i-1,:]\n",
    "        next_betas = current_betas + np.random.normal(scale=0.01, size=n_dim+1)\n",
    "\n",
    "        loglike_current = loglike_A(x_obs, y_obs, sigma_y_obs, current_betas)\n",
    "        loglike_next = loglike_A(x_obs, y_obs, sigma_y_obs, next_betas)\n",
    "\n",
    "        r = np.min([np.exp(loglike_next - loglike_current), 1.0])\n",
    "        alpha = np.random.random()\n",
    "\n",
    "        if alpha < r:\n",
    "            betas[i,:] = next_betas\n",
    "        else:\n",
    "            betas[i,:] = current_betas\n",
    "    betas = betas[n_iterations//2:,:]\n",
    "    return {'betas':betas, 'x_obs':x_obs, 'y_obs':y_obs}\n",
    "n_dim = [2,2,4]\n",
    "#n_dim = 2\n",
    "results_A = run_mcmc_A()\n",
    "betas_A = results_A['betas']"
   ]
  },
  {
   "cell_type": "code",
   "execution_count": 53,
   "metadata": {},
   "outputs": [
    {
     "name": "stderr",
     "output_type": "stream",
     "text": [
      "/home/john/anaconda3/lib/python3.7/site-packages/ipykernel_launcher.py:5: RuntimeWarning: divide by zero encountered in true_divide\n",
      "  \"\"\"\n"
     ]
    }
   ],
   "source": [
    "def run_mcmc_B(data_file=\"data_to_fit.txt\", n_dim=2, n_iterations=20000):\n",
    "    data = np.loadtxt(data_file)\n",
    "    x_obs = data[:,:n_dim-1]\n",
    "    y_obs = data[:, n_dim-1]\n",
    "    sigma_y_obs =  data[:, n_dim]\n",
    "    betas = np.zeros([n_iterations, n_dim+1])\n",
    "    for i in range(1, n_iterations):\n",
    "        current_betas = betas[i-1,:]\n",
    "        next_betas = current_betas + np.random.normal(scale=0.01, size=n_dim+1)\n",
    "\n",
    "        loglike_current = loglike_B(x_obs, y_obs, sigma_y_obs, current_betas)\n",
    "        loglike_next = loglike_B(x_obs, y_obs, sigma_y_obs, next_betas)\n",
    "\n",
    "        r = np.min([np.exp(loglike_next - loglike_current), 1.0])\n",
    "        alpha = np.random.random()\n",
    "\n",
    "        if alpha < r:\n",
    "            betas[i,:] = next_betas\n",
    "        else:\n",
    "            betas[i,:] = current_betas\n",
    "    betas = betas[n_iterations//2:,:]\n",
    "    return {'betas':betas, 'x_obs':x_obs, 'y_obs':y_obs}\n",
    "\n",
    "results_B = run_mcmc_B()\n",
    "betas_B = results_B['betas']"
   ]
  },
  {
   "cell_type": "code",
   "execution_count": 67,
   "metadata": {},
   "outputs": [
    {
     "name": "stderr",
     "output_type": "stream",
     "text": [
      "/home/john/anaconda3/lib/python3.7/site-packages/ipykernel_launcher.py:5: RuntimeWarning: divide by zero encountered in true_divide\n",
      "  \"\"\"\n"
     ]
    }
   ],
   "source": [
    "def run_mcmc_C(data_file=\"data_to_fit.txt\", n_dim=4, n_iterations=20000):\n",
    "    data = np.loadtxt(data_file)\n",
    "    x_obs = data[:,:len(data[0])-1]\n",
    "    y_obs = data[:,len(data[0])-1]\n",
    "    sigma_y_obs =  data[:,len(data[0])-1]\n",
    "    betas = np.zeros([n_iterations, n_dim+1])\n",
    "    for i in range(1, n_iterations):\n",
    "        current_betas = betas[i-1,:]\n",
    "        next_betas = current_betas + np.random.normal(scale=0.01, size=n_dim+1)\n",
    "\n",
    "        loglike_current = loglike_C(x_obs, y_obs, sigma_y_obs, current_betas)\n",
    "        loglike_next = loglike_C(x_obs, y_obs, sigma_y_obs, next_betas)\n",
    "        r=0\n",
    "  #      r = np.min([np.exp(loglike_next - loglike_current), 1.0])\n",
    "        alpha = np.random.random()\n",
    "\n",
    "        if alpha < r:\n",
    "            betas[i,:] = next_betas\n",
    "        else:\n",
    "            betas[i,:] = current_betas\n",
    "    betas = betas[n_iterations//2:,:]\n",
    "    return {'betas':betas, 'x_obs':x_obs, 'y_obs':y_obs}\n",
    "\n",
    "\n",
    "results_C = run_mcmc_C()\n",
    "betas_C = results_C['betas']"
   ]
  },
  {
   "cell_type": "code",
   "execution_count": 68,
   "metadata": {},
   "outputs": [
    {
     "data": {
      "image/png": "[encoded data removed]",
      "text/plain": [
       "<Figure size 432x288 with 3 Axes>"
      ]
     },
     "metadata": {
      "needs_background": "light"
     },
     "output_type": "display_data"
    }
   ],
   "source": [
    "mean_A=np.zeros(n_dim[0]+1)\n",
    "std_A=np.zeros(n_dim[0]+1)\n",
    "plt.figure()\n",
    "for i in range(0,n_dim[0]+1):\n",
    "    mean_A[i]=np.mean(betas_A[:,i])\n",
    "    std_A[i]=np.std(betas_A[:,i])\n",
    "    plt.subplot(2,3,i+1)\n",
    "    plt.hist(betas_A[:,i],bins=15, density=True)\n",
    "    plt.title(r\"$\\beta_{}= {:.2f}\\pm {:.2f}$\".format(i,np.mean(betas_A[:,i]), np.std(betas_A[:,i])))\n",
    "    plt.xlabel(r\"$\\beta_{}$\".format(i))\n",
    "plt.subplots_adjust(hspace=0.5)\n",
    "plt.savefig(\"ajuste_bayes_mcmc.png\",  bbox_inches='tight')    "
   ]
  },
  {
   "cell_type": "code",
   "execution_count": 57,
   "metadata": {},
   "outputs": [
    {
     "data": {
      "image/png": "[encoded data removed]",
      "text/plain": [
       "<Figure size 432x288 with 3 Axes>"
      ]
     },
     "metadata": {
      "needs_background": "light"
     },
     "output_type": "display_data"
    }
   ],
   "source": [
    "mean_B=np.zeros(n_dim[1]+1)\n",
    "std_B=np.zeros(n_dim[1]+1)\n",
    "plt.figure()\n",
    "for i in range(0,n_dim[1]+1):\n",
    "    mean_B=np.mean(betas_B[:,i])\n",
    "    std_B=np.std(betas_B[:,i])\n",
    "    plt.subplot(2,3,i+1)\n",
    "    plt.hist(betas_B[:,i],bins=15, density=True)\n",
    "    plt.title(r\"$\\beta_{}= {:.2f}\\pm {:.2f}$\".format(i,np.mean(betas_B[:,i]), np.std(betas_B[:,i])))\n",
    "    plt.xlabel(r\"$\\beta_{}$\".format(i))\n",
    "plt.subplots_adjust(hspace=0.5)\n",
    "plt.savefig(\"ajuste_bayes_mcmc.png\",  bbox_inches='tight')"
   ]
  },
  {
   "cell_type": "code",
   "execution_count": 69,
   "metadata": {},
   "outputs": [
    {
     "data": {
      "image/png": "[encoded data removed]",
      "text/plain": [
       "<Figure size 432x288 with 5 Axes>"
      ]
     },
     "metadata": {
      "needs_background": "light"
     },
     "output_type": "display_data"
    }
   ],
   "source": [
    "mean_C=np.zeros(n_dim[2]+1)\n",
    "std_C=np.zeros(n_dim[2]+1)\n",
    "plt.figure()\n",
    "for i in range(0,n_dim[2]+1):\n",
    "    mean_C=np.mean(betas_C[:,i])\n",
    "    std_C=np.std(betas_C[:,i])\n",
    "    plt.subplot(2,3,i+1)\n",
    "    plt.hist(betas_C[:,i],bins=15, density=True)\n",
    "    plt.title(r\"$\\beta_{}= {:.2f}\\pm {:.2f}$\".format(i,np.mean(betas_C[:,i]), np.std(betas_C[:,i])))\n",
    "    plt.xlabel(r\"$\\beta_{}$\".format(i))\n",
    "plt.subplots_adjust(hspace=0.5)\n",
    "plt.savefig(\"ajuste_bayes_mcmc.png\",  bbox_inches='tight')"
   ]
  },
  {
   "cell_type": "code",
   "execution_count": 59,
   "metadata": {},
   "outputs": [],
   "source": [
    "#mejor ajuste"
   ]
  },
  {
   "cell_type": "code",
   "execution_count": 61,
   "metadata": {},
   "outputs": [],
   "source": [
    "data=np.loadtxt(\"data_to_fit.txt\")\n",
    "x_obs = data[:,:len(data[0])-1]\n",
    "y_obs = data[:,len(data[0])-1]\n",
    "sigma_y_obs =  data[:,len(data[0])-1]\n"
   ]
  },
  {
   "cell_type": "code",
   "execution_count": 74,
   "metadata": {},
   "outputs": [],
   "source": [
    "k=3\n",
    "def P(M):\n",
    "    return 1\n",
    "def maximo_incertidumbre(x, y):\n",
    "    deltax = x[1] - x[0]\n",
    "    # maximo de y\n",
    "    ii = np.argmax(y)\n",
    "    # segunda derivada\n",
    "    d = (y[ii+1] - 2*y[ii] + y[ii-1]) / (deltax**2)\n",
    "    return x[ii], 1.0/np.sqrt(-d)\n",
    "#maximo_incertidumbre(x_obs[:,0], loglike_A(x_obs, y_obs, sigma_y_obs, betas_A))\n",
    "def P_M_D(x_obs, y_obs, sigma_y_obs, betas,k):\n",
    "    BIC=2*(-loglike_A(x_obs, y_obs, sigma_y_obs, betas)+k*np.log(n)/2)\n",
    "    return np.exp(-BIC/2)*P(M)\n"
   ]
  },
  {
   "cell_type": "code",
   "execution_count": null,
   "metadata": {},
   "outputs": [],
   "source": []
  }
 ],
 "metadata": {
  "kernelspec": {
   "display_name": "Python 3",
   "language": "python",
   "name": "python3"
  },
  "language_info": {
   "codemirror_mode": {
    "name": "ipython",
    "version": 3
   },
   "file_extension": ".py",
   "mimetype": "text/x-python",
   "name": "python",
   "nbconvert_exporter": "python",
   "pygments_lexer": "ipython3",
   "version": "3.7.4"
  }
 },
 "nbformat": 4,
 "nbformat_minor": 2
}
