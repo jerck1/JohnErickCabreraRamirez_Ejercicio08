{
 "cells": [
  {
   "cell_type": "code",
   "execution_count": 1,
   "metadata": {},
   "outputs": [],
   "source": [
    "import numpy as np\n",
    "import matplotlib.pyplot as plt"
   ]
  },
  {
   "cell_type": "code",
   "execution_count": 2,
   "metadata": {},
   "outputs": [],
   "source": [
    "def model_A(x,params):\n",
    "    y=params[0]+params[1]*x+params[2]*x**2\n",
    "    return y\n",
    "def model_B(x,params):\n",
    "    y=params[0]*np.exp(-0.5*(x-params[1])**2/params[2]**2)\n",
    "    return y\n",
    "def model_C(x,params):\n",
    "    y=params[0]*np.exp(-0.5*(x-params[1])**2/params[2]**2)\n",
    "    y+=params[0]*np.exp(-0.5*(x-params[3])**2/params[4]**2)\n",
    "    return y"
   ]
  },
  {
   "cell_type": "code",
   "execution_count": 3,
   "metadata": {},
   "outputs": [],
   "source": [
    "def loglike_A(x_obs, y_obs, sigma_y_obs, betas):\n",
    "    n_obs = len(y_obs)\n",
    "    l = 0.0\n",
    "    for i in range(n_obs):\n",
    "        l += -0.5*(y_obs[i]-model_A(x_obs[i,:], betas))**2/sigma_y_obs[i]**2\n",
    "    return l\n",
    "def loglike_B(x_obs, y_obs, sigma_y_obs, betas):\n",
    "    n_obs = len(y_obs)\n",
    "    l = 0.0\n",
    "    for i in range(n_obs):\n",
    "        l += -0.5*(y_obs[i]-model_B(x_obs[i,:], betas))**2/sigma_y_obs[i]**2\n",
    "    return l\n",
    "def loglike_C(x_obs, y_obs, sigma_y_obs, betas):\n",
    "    n_obs = len(y_obs)\n",
    "    l = 0.0\n",
    "    for i in range(n_obs):\n",
    "        l += -0.5*(y_obs[i]-model_B(x_obs[i,:], betas))**2/sigma_y_obs[i]**2\n",
    "    return l"
   ]
  },
  {
   "cell_type": "code",
   "execution_count": 52,
   "metadata": {},
   "outputs": [],
   "source": [
    "def run_mcmc_A(data_file=\"data_to_fit.txt\", n_dim=2, n_iterations=20000):\n",
    "    data = np.loadtxt(data_file)\n",
    "    x_obs = data[:,:n_dim-1]\n",
    "    y_obs = data[:, n_dim-1]\n",
    "    sigma_y_obs =  data[:, n_dim]\n",
    "    betas = np.zeros([n_iterations, n_dim+1])\n",
    "    for i in range(1, n_iterations):\n",
    "        current_betas = betas[i-1,:]\n",
    "        next_betas = current_betas + np.random.normal(scale=0.01, size=n_dim+1)\n",
    "\n",
    "        loglike_current = loglike_A(x_obs, y_obs, sigma_y_obs, current_betas)\n",
    "        loglike_next = loglike_A(x_obs, y_obs, sigma_y_obs, next_betas)\n",
    "\n",
    "        r = np.min([np.exp(loglike_next - loglike_current), 1.0])\n",
    "        alpha = np.random.random()\n",
    "\n",
    "        if alpha < r:\n",
    "            betas[i,:] = next_betas\n",
    "        else:\n",
    "            betas[i,:] = current_betas\n",
    "    betas = betas[n_iterations//2:,:]\n",
    "    return {'betas':betas, 'x_obs':x_obs, 'y_obs':y_obs}\n",
    "n_dim = [2,2,4]\n",
    "#n_dim = 2\n",
    "results_A = run_mcmc_A()\n",
    "betas_A = results_A['betas']"
   ]
  },
  {
   "cell_type": "code",
   "execution_count": 53,
   "metadata": {},
   "outputs": [
    {
     "name": "stderr",
     "output_type": "stream",
     "text": [
      "/home/john/anaconda3/lib/python3.7/site-packages/ipykernel_launcher.py:5: RuntimeWarning: divide by zero encountered in true_divide\n",
      "  \"\"\"\n"
     ]
    }
   ],
   "source": [
    "def run_mcmc_B(data_file=\"data_to_fit.txt\", n_dim=2, n_iterations=20000):\n",
    "    data = np.loadtxt(data_file)\n",
    "    x_obs = data[:,:n_dim-1]\n",
    "    y_obs = data[:, n_dim-1]\n",
    "    sigma_y_obs =  data[:, n_dim]\n",
    "    betas = np.zeros([n_iterations, n_dim+1])\n",
    "    for i in range(1, n_iterations):\n",
    "        current_betas = betas[i-1,:]\n",
    "        next_betas = current_betas + np.random.normal(scale=0.01, size=n_dim+1)\n",
    "\n",
    "        loglike_current = loglike_B(x_obs, y_obs, sigma_y_obs, current_betas)\n",
    "        loglike_next = loglike_B(x_obs, y_obs, sigma_y_obs, next_betas)\n",
    "\n",
    "        r = np.min([np.exp(loglike_next - loglike_current), 1.0])\n",
    "        alpha = np.random.random()\n",
    "\n",
    "        if alpha < r:\n",
    "            betas[i,:] = next_betas\n",
    "        else:\n",
    "            betas[i,:] = current_betas\n",
    "    betas = betas[n_iterations//2:,:]\n",
    "    return {'betas':betas, 'x_obs':x_obs, 'y_obs':y_obs}\n",
    "\n",
    "results_B = run_mcmc_B()\n",
    "betas_B = results_B['betas']"
   ]
  },
  {
   "cell_type": "code",
   "execution_count": 33,
   "metadata": {},
   "outputs": [
    {
     "name": "stderr",
     "output_type": "stream",
     "text": [
      "/home/john/anaconda3/lib/python3.7/site-packages/ipykernel_launcher.py:5: RuntimeWarning: divide by zero encountered in true_divide\n",
      "  \"\"\"\n"
     ]
    },
    {
     "ename": "ValueError",
     "evalue": "The truth value of an array with more than one element is ambiguous. Use a.any() or a.all()",
     "output_type": "error",
     "traceback": [
      "\u001b[0;31m---------------------------------------------------------------------------\u001b[0m",
      "\u001b[0;31mValueError\u001b[0m                                Traceback (most recent call last)",
      "\u001b[0;32m<ipython-input-33-a3725af7b669>\u001b[0m in \u001b[0;36m<module>\u001b[0;34m\u001b[0m\n\u001b[1;32m     23\u001b[0m \u001b[0;34m\u001b[0m\u001b[0m\n\u001b[1;32m     24\u001b[0m \u001b[0mn_dim\u001b[0m \u001b[0;34m=\u001b[0m \u001b[0;34m[\u001b[0m\u001b[0;36m2\u001b[0m\u001b[0;34m,\u001b[0m\u001b[0;36m2\u001b[0m\u001b[0;34m,\u001b[0m\u001b[0;36m4\u001b[0m\u001b[0;34m]\u001b[0m\u001b[0;34m\u001b[0m\u001b[0;34m\u001b[0m\u001b[0m\n\u001b[0;32m---> 25\u001b[0;31m \u001b[0mresults_C\u001b[0m \u001b[0;34m=\u001b[0m \u001b[0mrun_mcmc_C\u001b[0m\u001b[0;34m(\u001b[0m\u001b[0;34m)\u001b[0m\u001b[0;34m\u001b[0m\u001b[0;34m\u001b[0m\u001b[0m\n\u001b[0m\u001b[1;32m     26\u001b[0m \u001b[0mbetas_C\u001b[0m \u001b[0;34m=\u001b[0m \u001b[0mresults_C\u001b[0m\u001b[0;34m[\u001b[0m\u001b[0;34m'betas'\u001b[0m\u001b[0;34m]\u001b[0m\u001b[0;34m\u001b[0m\u001b[0;34m\u001b[0m\u001b[0m\n",
      "\u001b[0;32m<ipython-input-33-a3725af7b669>\u001b[0m in \u001b[0;36mrun_mcmc_C\u001b[0;34m(data_file, n_dim, n_iterations)\u001b[0m\n\u001b[1;32m     12\u001b[0m         \u001b[0mloglike_next\u001b[0m \u001b[0;34m=\u001b[0m \u001b[0mloglike_C\u001b[0m\u001b[0;34m(\u001b[0m\u001b[0mx_obs\u001b[0m\u001b[0;34m,\u001b[0m \u001b[0my_obs\u001b[0m\u001b[0;34m,\u001b[0m \u001b[0msigma_y_obs\u001b[0m\u001b[0;34m,\u001b[0m \u001b[0mnext_betas\u001b[0m\u001b[0;34m)\u001b[0m\u001b[0;34m\u001b[0m\u001b[0;34m\u001b[0m\u001b[0m\n\u001b[1;32m     13\u001b[0m \u001b[0;34m\u001b[0m\u001b[0m\n\u001b[0;32m---> 14\u001b[0;31m         \u001b[0mr\u001b[0m \u001b[0;34m=\u001b[0m \u001b[0mnp\u001b[0m\u001b[0;34m.\u001b[0m\u001b[0mmin\u001b[0m\u001b[0;34m(\u001b[0m\u001b[0;34m[\u001b[0m\u001b[0mnp\u001b[0m\u001b[0;34m.\u001b[0m\u001b[0mexp\u001b[0m\u001b[0;34m(\u001b[0m\u001b[0mloglike_next\u001b[0m \u001b[0;34m-\u001b[0m \u001b[0mloglike_current\u001b[0m\u001b[0;34m)\u001b[0m\u001b[0;34m,\u001b[0m \u001b[0;36m1.0\u001b[0m\u001b[0;34m]\u001b[0m\u001b[0;34m)\u001b[0m\u001b[0;34m\u001b[0m\u001b[0;34m\u001b[0m\u001b[0m\n\u001b[0m\u001b[1;32m     15\u001b[0m   \u001b[0;31m#      alpha = np.random.random()\u001b[0m\u001b[0;34m\u001b[0m\u001b[0;34m\u001b[0m\u001b[0;34m\u001b[0m\u001b[0m\n\u001b[1;32m     16\u001b[0m \u001b[0;34m\u001b[0m\u001b[0m\n",
      "\u001b[0;32m<__array_function__ internals>\u001b[0m in \u001b[0;36mamin\u001b[0;34m(*args, **kwargs)\u001b[0m\n",
      "\u001b[0;32m~/anaconda3/lib/python3.7/site-packages/numpy/core/fromnumeric.py\u001b[0m in \u001b[0;36mamin\u001b[0;34m(a, axis, out, keepdims, initial, where)\u001b[0m\n\u001b[1;32m   2744\u001b[0m     \"\"\"\n\u001b[1;32m   2745\u001b[0m     return _wrapreduction(a, np.minimum, 'min', axis, None, out,\n\u001b[0;32m-> 2746\u001b[0;31m                           keepdims=keepdims, initial=initial, where=where)\n\u001b[0m\u001b[1;32m   2747\u001b[0m \u001b[0;34m\u001b[0m\u001b[0m\n\u001b[1;32m   2748\u001b[0m \u001b[0;34m\u001b[0m\u001b[0m\n",
      "\u001b[0;32m~/anaconda3/lib/python3.7/site-packages/numpy/core/fromnumeric.py\u001b[0m in \u001b[0;36m_wrapreduction\u001b[0;34m(obj, ufunc, method, axis, dtype, out, **kwargs)\u001b[0m\n\u001b[1;32m     88\u001b[0m                 \u001b[0;32mreturn\u001b[0m \u001b[0mreduction\u001b[0m\u001b[0;34m(\u001b[0m\u001b[0maxis\u001b[0m\u001b[0;34m=\u001b[0m\u001b[0maxis\u001b[0m\u001b[0;34m,\u001b[0m \u001b[0mout\u001b[0m\u001b[0;34m=\u001b[0m\u001b[0mout\u001b[0m\u001b[0;34m,\u001b[0m \u001b[0;34m**\u001b[0m\u001b[0mpasskwargs\u001b[0m\u001b[0;34m)\u001b[0m\u001b[0;34m\u001b[0m\u001b[0;34m\u001b[0m\u001b[0m\n\u001b[1;32m     89\u001b[0m \u001b[0;34m\u001b[0m\u001b[0m\n\u001b[0;32m---> 90\u001b[0;31m     \u001b[0;32mreturn\u001b[0m \u001b[0mufunc\u001b[0m\u001b[0;34m.\u001b[0m\u001b[0mreduce\u001b[0m\u001b[0;34m(\u001b[0m\u001b[0mobj\u001b[0m\u001b[0;34m,\u001b[0m \u001b[0maxis\u001b[0m\u001b[0;34m,\u001b[0m \u001b[0mdtype\u001b[0m\u001b[0;34m,\u001b[0m \u001b[0mout\u001b[0m\u001b[0;34m,\u001b[0m \u001b[0;34m**\u001b[0m\u001b[0mpasskwargs\u001b[0m\u001b[0;34m)\u001b[0m\u001b[0;34m\u001b[0m\u001b[0;34m\u001b[0m\u001b[0m\n\u001b[0m\u001b[1;32m     91\u001b[0m \u001b[0;34m\u001b[0m\u001b[0m\n\u001b[1;32m     92\u001b[0m \u001b[0;34m\u001b[0m\u001b[0m\n",
      "\u001b[0;31mValueError\u001b[0m: The truth value of an array with more than one element is ambiguous. Use a.any() or a.all()"
     ]
    }
   ],
   "source": [
    "def run_mcmc_C(data_file=\"data_to_fit.txt\", n_dim=4, n_iterations=20000):\n",
    "    data = np.loadtxt(data_file)\n",
    "    x_obs = data[:,:len(data[0])-1]\n",
    "    y_obs = data[:,len(data[0])-1]\n",
    "    sigma_y_obs =  data[:,len(data[0])-1]\n",
    "    betas = np.zeros([n_iterations, n_dim+1])\n",
    "    for i in range(1, n_iterations):\n",
    "        current_betas = betas[i-1,:]\n",
    "        next_betas = current_betas + np.random.normal(scale=0.01, size=n_dim+1)\n",
    "\n",
    "        loglike_current = loglike_C(x_obs, y_obs, sigma_y_obs, current_betas)\n",
    "        loglike_next = loglike_C(x_obs, y_obs, sigma_y_obs, next_betas)\n",
    "\n",
    "        r = np.min([np.exp(loglike_next - loglike_current), 1.0])\n",
    "  #      alpha = np.random.random()\n",
    "\n",
    "   #     if alpha < r:\n",
    "        betas[i,:] = next_betas\n",
    "     #   else:\n",
    "      #      betas[i,:] = current_betas\n",
    "    betas = betas[n_iterations//2:,:]\n",
    "    return {'betas':betas, 'x_obs':x_obs, 'y_obs':y_obs}\n",
    "\n",
    "\n",
    "results_C = run_mcmc_C()\n",
    "betas_C = results_C['betas']"
   ]
  },
  {
   "cell_type": "code",
   "execution_count": 54,
   "metadata": {},
   "outputs": [
    {
     "data": {
      "image/png": "[encoded data removed]",
      "text/plain": [
       "<Figure size 432x288 with 3 Axes>"
      ]
     },
     "metadata": {
      "needs_background": "light"
     },
     "output_type": "display_data"
    }
   ],
   "source": [
    "mean_A=np.zeros(n_dim[0]+1)\n",
    "std_A=np.zeros(n_dim[0]+1)\n",
    "plt.figure()\n",
    "for i in range(0,n_dim[0]+1):\n",
    "    mean_A[i]=np.mean(betas_A[:,i])\n",
    "    std_A[i]=np.std(betas_A[:,i])\n",
    "    plt.subplot(2,3,i+1)\n",
    "    plt.hist(betas_A[:,i],bins=15, density=True)\n",
    "    plt.title(r\"$\\beta_{}= {:.2f}\\pm {:.2f}$\".format(i,np.mean(betas_A[:,i]), np.std(betas_A[:,i])))\n",
    "    plt.xlabel(r\"$\\beta_{}$\".format(i))\n",
    "plt.subplots_adjust(hspace=0.5)\n",
    "plt.savefig(\"ajuste_bayes_mcmc.png\",  bbox_inches='tight')    "
   ]
  },
  {
   "cell_type": "code",
   "execution_count": 57,
   "metadata": {},
   "outputs": [
    {
     "data": {
      "image/png": "[encoded data removed]",
      "text/plain": [
       "<Figure size 432x288 with 3 Axes>"
      ]
     },
     "metadata": {
      "needs_background": "light"
     },
     "output_type": "display_data"
    }
   ],
   "source": [
    "mean_B=np.zeros(n_dim[1]+1)\n",
    "std_B=np.zeros(n_dim[1]+1)\n",
    "plt.figure()\n",
    "for i in range(0,n_dim[1]+1):\n",
    "    mean_B=np.mean(betas_B[:,i])\n",
    "    std_B=np.std(betas_B[:,i])\n",
    "    plt.subplot(2,3,i+1)\n",
    "    plt.hist(betas_B[:,i],bins=15, density=True)\n",
    "    plt.title(r\"$\\beta_{}= {:.2f}\\pm {:.2f}$\".format(i,np.mean(betas_B[:,i]), np.std(betas_B[:,i])))\n",
    "    plt.xlabel(r\"$\\beta_{}$\".format(i))\n",
    "plt.subplots_adjust(hspace=0.5)\n",
    "plt.savefig(\"ajuste_bayes_mcmc.png\",  bbox_inches='tight')"
   ]
  },
  {
   "cell_type": "code",
   "execution_count": 58,
   "metadata": {},
   "outputs": [
    {
     "data": {
      "image/png": "[encoded data removed]",
      "text/plain": [
       "<Figure size 432x288 with 5 Axes>"
      ]
     },
     "metadata": {
      "needs_background": "light"
     },
     "output_type": "display_data"
    }
   ],
   "source": [
    "mean_B=np.zeros(n_dim[2]+1)\n",
    "std_B=np.zeros(n_dim[2]+1)\n",
    "plt.figure()\n",
    "for i in range(0,n_dim[2]+1):\n",
    "    mean_C=np.mean(betas_C[:,i])\n",
    "    std_C=np.std(betas_C[:,i])\n",
    "    plt.subplot(2,3,i+1)\n",
    "    plt.hist(betas_C[:,i],bins=15, density=True)\n",
    "    plt.title(r\"$\\beta_{}= {:.2f}\\pm {:.2f}$\".format(i,np.mean(betas_C[:,i]), np.std(betas_C[:,i])))\n",
    "    plt.xlabel(r\"$\\beta_{}$\".format(i))\n",
    "plt.subplots_adjust(hspace=0.5)\n",
    "plt.savefig(\"ajuste_bayes_mcmc.png\",  bbox_inches='tight')"
   ]
  },
  {
   "cell_type": "code",
   "execution_count": null,
   "metadata": {},
   "outputs": [],
   "source": []
  },
  {
   "cell_type": "code",
   "execution_count": 56,
   "metadata": {},
   "outputs": [],
   "source": [
    "mean_A=np.zeros(n_dim[0])\n",
    "#n_dim"
   ]
  },
  {
   "cell_type": "code",
   "execution_count": 13,
   "metadata": {},
   "outputs": [],
   "source": [
    "data=np.loadtxt(\"data_to_fit.txt\")"
   ]
  }
 ],
 "metadata": {
  "kernelspec": {
   "display_name": "Python 3",
   "language": "python",
   "name": "python3"
  },
  "language_info": {
   "codemirror_mode": {
    "name": "ipython",
    "version": 3
   },
   "file_extension": ".py",
   "mimetype": "text/x-python",
   "name": "python",
   "nbconvert_exporter": "python",
   "pygments_lexer": "ipython3",
   "version": "3.7.4"
  }
 },
 "nbformat": 4,
 "nbformat_minor": 2
}
